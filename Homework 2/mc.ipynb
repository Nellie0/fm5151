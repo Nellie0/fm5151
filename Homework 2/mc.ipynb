{
 "cells": [
  {
   "cell_type": "code",
   "execution_count": 45,
   "metadata": {},
   "outputs": [],
   "source": [
    "import numpy as np\n",
    "import pandas as pd\n",
    "import matplotlib.pyplot as plt\n",
    "from scipy.integrate import quad\n",
    "from scipy.stats import norm"
   ]
  },
  {
   "cell_type": "markdown",
   "metadata": {},
   "source": [
    "1. Prep Work\n",
    "\n",
    "a) $f(x) = 20 - x^2$ with interval $[a,b]$.\n",
    "\n",
    "Then $$I=\\int^b_a f(x)\\,dx=\\int^b_a 20-x^2\\,dx=\\left[20x-\\frac{1}{3}x^3\\right]^b_a=20(b-a) -\\frac{1}{3}(b^3-a^3)$$"
   ]
  },
  {
   "cell_type": "code",
   "execution_count": 46,
   "metadata": {},
   "outputs": [],
   "source": [
    "# b)\n",
    "def f(x):\n",
    "    return 20 - x**2\n",
    "\n",
    "# c)\n",
    "def I(a,b):\n",
    "    return 20 * (b - a) - (1 / 3) * (b**3 - a**3)"
   ]
  },
  {
   "cell_type": "markdown",
   "metadata": {},
   "source": [
    "2. Basic Monte Carlo\n",
    "\n",
    "a) The expected value is approximately the integral of I that was defined earlier. In other words, $$\\mathbb{E}[I_n^{\\text{Basic}}] = \\frac{1}{n}\\left(20(b-a) - \\frac{1}{3}(b^3 - a^3)\\right)$$"
   ]
  },
  {
   "cell_type": "code",
   "execution_count": 47,
   "metadata": {},
   "outputs": [],
   "source": [
    "# b) Fix this function\n",
    "\n",
    "def mc_basic(f,a: float, b: float, n: int):\n",
    "    ar = np.random.uniform(a,b,n)\n",
    "    In = np.sum(f(ar))\n",
    "    In *= (b - a)\n",
    "    In *= (1 / n)\n",
    "    return In, np.var(f(ar) * (b - a))"
   ]
  },
  {
   "cell_type": "markdown",
   "metadata": {},
   "source": [
    "c) \n",
    "\n",
    "We have that $$\\mathbb{E}[I_n^\\text{Basic}]^2 = \\frac{1}{n}\\left(20(b-a)-\\frac{1}{3}(b^3-a^3)\\right)^2$$\n",
    "Since $f^2(x) = (20-x^2)(20-x^2)=x^4-40x^2+400$ we know that $$\\mathbb{E}[(I_n^\\text{Basic})^2]=\\frac{1}{n}\\int^b_a(x^4-40x^2+400)\\,dx=\\frac{1}{n}\\left[\\frac{1}{5}x^5-\\frac{40}{3}x^3+400x\\right]^b_a=\\frac{1}{n}\\left(b^5-a^5-\\frac{40}{3}(b^3-a^3)+400(b-a)\\right)$$ Then $$Var(I_n^\\text{Basic})=\\mathbb{E}[(I_n^\\text{Basic})^2]-\\mathbb{E}[I_n^\\text{Basic}]^2$$ $$=\\frac{1}{n}\\left[(b-a)\\left(400(b-a)-\\frac{40(b^3-a^3)}{3}+\\frac{b^5-a^5}{5}\\right)-\\left(20(b-a)-\\frac{b^3-a^3}{3}\\right)^2\\right]$$"
   ]
  },
  {
   "cell_type": "code",
   "execution_count": 48,
   "metadata": {},
   "outputs": [
    {
     "data": {
      "text/html": [
       "<div>\n",
       "<style scoped>\n",
       "    .dataframe tbody tr th:only-of-type {\n",
       "        vertical-align: middle;\n",
       "    }\n",
       "\n",
       "    .dataframe tbody tr th {\n",
       "        vertical-align: top;\n",
       "    }\n",
       "\n",
       "    .dataframe thead th {\n",
       "        text-align: right;\n",
       "    }\n",
       "</style>\n",
       "<table border=\"1\" class=\"dataframe\">\n",
       "  <thead>\n",
       "    <tr style=\"text-align: right;\">\n",
       "      <th></th>\n",
       "      <th>integral_true</th>\n",
       "      <th>integral_estimate</th>\n",
       "      <th>difference</th>\n",
       "      <th>sigma^2_estimate/n</th>\n",
       "      <th>sigma^2_estimate</th>\n",
       "      <th>sigma^2_true/n</th>\n",
       "      <th>sigma^2_true</th>\n",
       "    </tr>\n",
       "  </thead>\n",
       "  <tbody>\n",
       "    <tr>\n",
       "      <th>0</th>\n",
       "      <td>70.666667</td>\n",
       "      <td>70.660249</td>\n",
       "      <td>-0.003211</td>\n",
       "      <td>107.411657</td>\n",
       "      <td>1.084764e+07</td>\n",
       "      <td>0.001081</td>\n",
       "      <td>108.088889</td>\n",
       "    </tr>\n",
       "  </tbody>\n",
       "</table>\n",
       "</div>"
      ],
      "text/plain": [
       "   integral_true  integral_estimate  difference  sigma^2_estimate/n  \\\n",
       "0      70.666667          70.660249   -0.003211          107.411657   \n",
       "\n",
       "   sigma^2_estimate  sigma^2_true/n  sigma^2_true  \n",
       "0      1.084764e+07        0.001081    108.088889  "
      ]
     },
     "execution_count": 48,
     "metadata": {},
     "output_type": "execute_result"
    }
   ],
   "source": [
    "# d) Create a function for the true variance of the basic estimator.\n",
    "def mc_basic_variance_true(a: float, b: float, n: int):\n",
    "    return (1 / n) * (((b - a) * (400 * (b - a) - ((40 * (b**3 - a**3)) / 3) + ((b**5 - a**5) / 5)))\n",
    "                      -(20 * (b-a) - ((b**3 - a**3) / 3))**2)\n",
    "\n",
    "# e)\n",
    "n = 100000\n",
    "a = -1\n",
    "b = 3\n",
    "\n",
    "#Creating dataframe\n",
    "idx = np.arange(1)\n",
    "df = pd.DataFrame(\n",
    "    {\"integral_true\": I(a,b), \"integral_estimate\": mc_basic(f,a,b,n)[0], \"difference\":mc_basic(f,a,b,n)[0]-I(a,b), \"sigma^2_estimate/n\": mc_basic(f,a,b,n)[1], \"sigma^2_estimate\": mc_basic(f,a,b,n)[1]*n, \"sigma^2_true/n\": mc_basic_variance_true(a,b,n), \"sigma^2_true\": mc_basic_variance_true(a,b,n)*n}, index=idx\n",
    ")\n",
    "df"
   ]
  },
  {
   "cell_type": "markdown",
   "metadata": {},
   "source": [
    "3. Antithetic uniform samples\n",
    "\n",
    "a) We have that $$\\mathbb{E}^p[I^{\\text{Antithetic}}_n]=I=\\left(20(b-a)-\\frac{1}{3}(b^3-a^3)\\right)^2$$"
   ]
  },
  {
   "cell_type": "code",
   "execution_count": 49,
   "metadata": {},
   "outputs": [
    {
     "data": {
      "text/html": [
       "<div>\n",
       "<style scoped>\n",
       "    .dataframe tbody tr th:only-of-type {\n",
       "        vertical-align: middle;\n",
       "    }\n",
       "\n",
       "    .dataframe tbody tr th {\n",
       "        vertical-align: top;\n",
       "    }\n",
       "\n",
       "    .dataframe thead th {\n",
       "        text-align: right;\n",
       "    }\n",
       "</style>\n",
       "<table border=\"1\" class=\"dataframe\">\n",
       "  <thead>\n",
       "    <tr style=\"text-align: right;\">\n",
       "      <th></th>\n",
       "      <th>integral_true</th>\n",
       "      <th>integral_estimate</th>\n",
       "      <th>difference</th>\n",
       "      <th>sigma^2_estimate/n</th>\n",
       "      <th>sigma^2_estimate</th>\n",
       "    </tr>\n",
       "  </thead>\n",
       "  <tbody>\n",
       "    <tr>\n",
       "      <th>0</th>\n",
       "      <td>70.666667</td>\n",
       "      <td>70.66899</td>\n",
       "      <td>0.003911</td>\n",
       "      <td>26.985494</td>\n",
       "      <td>2.703967e+06</td>\n",
       "    </tr>\n",
       "  </tbody>\n",
       "</table>\n",
       "</div>"
      ],
      "text/plain": [
       "   integral_true  integral_estimate  difference  sigma^2_estimate/n  \\\n",
       "0      70.666667           70.66899    0.003911           26.985494   \n",
       "\n",
       "   sigma^2_estimate  \n",
       "0      2.703967e+06  "
      ]
     },
     "execution_count": 49,
     "metadata": {},
     "output_type": "execute_result"
    }
   ],
   "source": [
    "# b)\n",
    "def mc_antithetic(f,a: float, b: float, n: int):\n",
    "    p = np.random.uniform(0,1,int(n))\n",
    "    p0 = 1 - p\n",
    "    x = a + (b - a) * p\n",
    "    x0 = a + (b - a) * p0\n",
    "    In = np.sum(f(x)) + np.sum(f(x0))\n",
    "    In *= (b - a)\n",
    "    In *= (1 / n) * (1 / 2)\n",
    "    var = np.concatenate((f(x), f(x0))) * (b - a) / 2.0\n",
    "    return In, np.var(var)\n",
    "\n",
    "# c)\n",
    "n = 100000\n",
    "a = -1\n",
    "b = 3\n",
    "idx = np.arange(1)\n",
    "df2 = pd.DataFrame(\n",
    "    {\"integral_true\": I(a,b), \"integral_estimate\": mc_antithetic(f,a,b,n)[0], \"difference\":mc_antithetic(f,a,b,n)[0]-I(a,b), \"sigma^2_estimate/n\": mc_antithetic(f,a,b,n)[1], \"sigma^2_estimate\": mc_antithetic(f,a,b,n)[1]*n}, index=idx\n",
    ")\n",
    "df2"
   ]
  },
  {
   "cell_type": "markdown",
   "metadata": {},
   "source": [
    "d) Using antithetic uniform samples gives a closer result to integral_true compared to using basic Monte Carlo. This is as expected, since using antithetic samples gives a negative covariance, therefore reducing the overall variance of the estimate."
   ]
  },
  {
   "cell_type": "markdown",
   "metadata": {},
   "source": [
    "4. Control Variate\n",
    "\n",
    "a) By definition, $$\\mathbb{E}[I_n^{\\text{ControlVariate}}] = \\mathbb{E}\\left[\\frac{1}{n}\\sum^n_{i=1}\\frac{f(x_1)-h(x_1)}{p(x_1)}\\right] = I$$"
   ]
  },
  {
   "cell_type": "code",
   "execution_count": 50,
   "metadata": {},
   "outputs": [
    {
     "data": {
      "text/html": [
       "<div>\n",
       "<style scoped>\n",
       "    .dataframe tbody tr th:only-of-type {\n",
       "        vertical-align: middle;\n",
       "    }\n",
       "\n",
       "    .dataframe tbody tr th {\n",
       "        vertical-align: top;\n",
       "    }\n",
       "\n",
       "    .dataframe thead th {\n",
       "        text-align: right;\n",
       "    }\n",
       "</style>\n",
       "<table border=\"1\" class=\"dataframe\">\n",
       "  <thead>\n",
       "    <tr style=\"text-align: right;\">\n",
       "      <th></th>\n",
       "      <th>control_variate</th>\n",
       "      <th>integral_true</th>\n",
       "      <th>integral_estimate</th>\n",
       "      <th>difference</th>\n",
       "      <th>sigma^2_estimate/n</th>\n",
       "      <th>sigma^2_estimate</th>\n",
       "    </tr>\n",
       "  </thead>\n",
       "  <tbody>\n",
       "    <tr>\n",
       "      <th>0</th>\n",
       "      <td>h1</td>\n",
       "      <td>70.66666666666667</td>\n",
       "      <td>70.66555948873122</td>\n",
       "      <td>0.0036244890489882664</td>\n",
       "      <td>112.46457309259938</td>\n",
       "      <td>11171322.756114474</td>\n",
       "    </tr>\n",
       "    <tr>\n",
       "      <th>1</th>\n",
       "      <td>h2</td>\n",
       "      <td>70.66666666666667</td>\n",
       "      <td>70.56270888941395</td>\n",
       "      <td>0.059346972994944736</td>\n",
       "      <td>987.3877023423742</td>\n",
       "      <td>98328404.16125694</td>\n",
       "    </tr>\n",
       "  </tbody>\n",
       "</table>\n",
       "</div>"
      ],
      "text/plain": [
       "  control_variate      integral_true  integral_estimate  \\\n",
       "0              h1  70.66666666666667  70.66555948873122   \n",
       "1              h2  70.66666666666667  70.56270888941395   \n",
       "\n",
       "              difference  sigma^2_estimate/n    sigma^2_estimate  \n",
       "0  0.0036244890489882664  112.46457309259938  11171322.756114474  \n",
       "1   0.059346972994944736   987.3877023423742   98328404.16125694  "
      ]
     },
     "execution_count": 50,
     "metadata": {},
     "output_type": "execute_result"
    }
   ],
   "source": [
    "#b)\n",
    "\n",
    "def h1(x):\n",
    "    return 20 * np.cos(x / 3)\n",
    "\n",
    "def h2(x):\n",
    "    return 20 * np.sin(x / 3)\n",
    "\n",
    "def H1(a, b):\n",
    "    int, error = quad(h1,a,b)\n",
    "    return int\n",
    "\n",
    "def H2(a,b):\n",
    "    int, error = quad(h2,a,b)\n",
    "    return int\n",
    "\n",
    "# c)\n",
    "def mc_control_variate(f, a: float, b: float, n: int, h, H):\n",
    "    p = np.random.uniform(a,b,n)\n",
    "    In = np.sum(f(p)) - np.sum(h(p))\n",
    "    In *= (b - a)\n",
    "    In *= (1 / n)\n",
    "    In += H\n",
    "    var = np.concatenate((f(p),h(p))) * (b-a) + H\n",
    "    return In, np.var(var)\n",
    "\n",
    "# d)\n",
    "n = 100000\n",
    "a = -1\n",
    "b = 3\n",
    "idx = np.arange(2)\n",
    "df3 = pd.DataFrame(\n",
    "    np.array([[\"h1\",\"h2\"], [I(a,b),I(a,b)], [mc_control_variate(f,a,b,n,h1,H1(a,b))[0],mc_control_variate(f,a,b,n,h2,H2(a,b))[0]], [mc_control_variate(f,a,b,n,h1,H1(a,b))[0] - I(a,b),mc_control_variate(f,a,b,n,h2,H2(a,b))[0] - I(a,b)], [mc_control_variate(f,a,b,n,h1,H1(a,b))[1],mc_control_variate(f,a,b,n,h2,H2(a,b))[1]], [mc_control_variate(f,a,b,n,h1,H1(a,b))[1]*n,mc_control_variate(f,a,b,n,h2,H2(a,b))[1]*n]]).T, columns = [\"control_variate\", \"integral_true\", \"integral_estimate\", \"difference\", \"sigma^2_estimate/n\", \"sigma^2_estimate\"]\n",
    ")\n",
    "df3"
   ]
  },
  {
   "cell_type": "markdown",
   "metadata": {},
   "source": [
    "e) The variance of h2 is significantly higher compared to h1. The difference betweeen the estimated integral and true integral is also higher for h2 compared to h1. This is shown by the below graph. Therefore, h1 is a better control variate."
   ]
  },
  {
   "cell_type": "code",
   "execution_count": 51,
   "metadata": {},
   "outputs": [
    {
     "data": {
      "text/plain": [
       "<matplotlib.legend.Legend at 0x20e9d33ca50>"
      ]
     },
     "execution_count": 51,
     "metadata": {},
     "output_type": "execute_result"
    },
    {
     "data": {
      "image/png": "[encoded data removed]",
      "text/plain": [
       "<Figure size 640x480 with 1 Axes>"
      ]
     },
     "metadata": {},
     "output_type": "display_data"
    }
   ],
   "source": [
    "fig, ax = plt.subplots()\n",
    "ax.plot(np.linspace(a,b),np.linspace(0,mc_control_variate(f,a,b,n,h1,H1(a,b))[0]-I(a,b)),label = 'h1')\n",
    "ax.plot(np.linspace(a,b),np.linspace(0,mc_control_variate(f,a,b,n,h2,H2(a,b))[0]-I(a,b)),label = 'h2')\n",
    "#ax.hlines(y = I(a,b), xmin = a, xmax = b, label = 'True integral', color = 'red', linestyles= 'dashed')\n",
    "ax.set_title('Comparing h1 and h2 control variates')\n",
    "ax.set_xlabel('Interval [a,b]')\n",
    "ax.set_ylabel('Difference between estimated integral and true integral')\n",
    "ax.legend()"
   ]
  },
  {
   "cell_type": "markdown",
   "metadata": {},
   "source": [
    "f) The result for the control variates are once again very close to the true integral, but the variances are higher than I expected. The high variances suggest that using antithetic sampling is better in this case."
   ]
  },
  {
   "cell_type": "markdown",
   "metadata": {},
   "source": [
    "5. Importance Sampling\n",
    "\n",
    "a) Similar to before, $$\\mathbb{E}[I_n^{\\text{Importance}}] = \\mathbb{E}\\left[\\frac{1}{n}\\sum\\limits_{i=1}^{n}\\frac{f(x_i)}{p(x_i)}\\right] = I = 20(b-a) -\\frac{1}{3}(b^3-a^3)$$"
   ]
  },
  {
   "cell_type": "code",
   "execution_count": 52,
   "metadata": {},
   "outputs": [
    {
     "data": {
      "text/html": [
       "<div>\n",
       "<style scoped>\n",
       "    .dataframe tbody tr th:only-of-type {\n",
       "        vertical-align: middle;\n",
       "    }\n",
       "\n",
       "    .dataframe tbody tr th {\n",
       "        vertical-align: top;\n",
       "    }\n",
       "\n",
       "    .dataframe thead th {\n",
       "        text-align: right;\n",
       "    }\n",
       "</style>\n",
       "<table border=\"1\" class=\"dataframe\">\n",
       "  <thead>\n",
       "    <tr style=\"text-align: right;\">\n",
       "      <th></th>\n",
       "      <th>sigma_number</th>\n",
       "      <th>integral_true</th>\n",
       "      <th>integral_estimate</th>\n",
       "      <th>difference</th>\n",
       "      <th>sigma^2_estimate/n</th>\n",
       "      <th>sigma^2_estimate</th>\n",
       "      <th>n_used</th>\n",
       "    </tr>\n",
       "  </thead>\n",
       "  <tbody>\n",
       "    <tr>\n",
       "      <th>0</th>\n",
       "      <td>1.0</td>\n",
       "      <td>70.666667</td>\n",
       "      <td>142.722630</td>\n",
       "      <td>72.466813</td>\n",
       "      <td>1412.735921</td>\n",
       "      <td>1.412105e+08</td>\n",
       "      <td>83972.0</td>\n",
       "    </tr>\n",
       "    <tr>\n",
       "      <th>1</th>\n",
       "      <td>2.0</td>\n",
       "      <td>70.666667</td>\n",
       "      <td>82.975461</td>\n",
       "      <td>12.890372</td>\n",
       "      <td>1296.304803</td>\n",
       "      <td>1.295796e+08</td>\n",
       "      <td>62629.0</td>\n",
       "    </tr>\n",
       "    <tr>\n",
       "      <th>2</th>\n",
       "      <td>3.0</td>\n",
       "      <td>70.666667</td>\n",
       "      <td>60.240000</td>\n",
       "      <td>-9.964023</td>\n",
       "      <td>1259.564250</td>\n",
       "      <td>1.258100e+08</td>\n",
       "      <td>47386.0</td>\n",
       "    </tr>\n",
       "    <tr>\n",
       "      <th>3</th>\n",
       "      <td>4.0</td>\n",
       "      <td>70.666667</td>\n",
       "      <td>47.642859</td>\n",
       "      <td>-22.702422</td>\n",
       "      <td>1242.352243</td>\n",
       "      <td>1.244560e+08</td>\n",
       "      <td>36983.0</td>\n",
       "    </tr>\n",
       "    <tr>\n",
       "      <th>4</th>\n",
       "      <td>5.0</td>\n",
       "      <td>70.666667</td>\n",
       "      <td>39.348605</td>\n",
       "      <td>-31.146527</td>\n",
       "      <td>1240.976589</td>\n",
       "      <td>1.238990e+08</td>\n",
       "      <td>30524.0</td>\n",
       "    </tr>\n",
       "    <tr>\n",
       "      <th>5</th>\n",
       "      <td>6.0</td>\n",
       "      <td>70.666667</td>\n",
       "      <td>33.819281</td>\n",
       "      <td>-36.868860</td>\n",
       "      <td>1232.295723</td>\n",
       "      <td>1.236769e+08</td>\n",
       "      <td>25700.0</td>\n",
       "    </tr>\n",
       "    <tr>\n",
       "      <th>6</th>\n",
       "      <td>7.0</td>\n",
       "      <td>70.666667</td>\n",
       "      <td>28.946073</td>\n",
       "      <td>-41.532566</td>\n",
       "      <td>1229.496559</td>\n",
       "      <td>1.231090e+08</td>\n",
       "      <td>22332.0</td>\n",
       "    </tr>\n",
       "    <tr>\n",
       "      <th>7</th>\n",
       "      <td>8.0</td>\n",
       "      <td>70.666667</td>\n",
       "      <td>25.946664</td>\n",
       "      <td>-44.667557</td>\n",
       "      <td>1231.095356</td>\n",
       "      <td>1.229829e+08</td>\n",
       "      <td>19519.0</td>\n",
       "    </tr>\n",
       "    <tr>\n",
       "      <th>8</th>\n",
       "      <td>9.0</td>\n",
       "      <td>70.666667</td>\n",
       "      <td>23.323026</td>\n",
       "      <td>-47.382576</td>\n",
       "      <td>1228.795480</td>\n",
       "      <td>1.235113e+08</td>\n",
       "      <td>17555.0</td>\n",
       "    </tr>\n",
       "    <tr>\n",
       "      <th>9</th>\n",
       "      <td>10.0</td>\n",
       "      <td>70.666667</td>\n",
       "      <td>21.191052</td>\n",
       "      <td>-49.524676</td>\n",
       "      <td>1232.733362</td>\n",
       "      <td>1.230154e+08</td>\n",
       "      <td>15937.0</td>\n",
       "    </tr>\n",
       "  </tbody>\n",
       "</table>\n",
       "</div>"
      ],
      "text/plain": [
       "   sigma_number  integral_true  integral_estimate  difference  \\\n",
       "0           1.0      70.666667         142.722630   72.466813   \n",
       "1           2.0      70.666667          82.975461   12.890372   \n",
       "2           3.0      70.666667          60.240000   -9.964023   \n",
       "3           4.0      70.666667          47.642859  -22.702422   \n",
       "4           5.0      70.666667          39.348605  -31.146527   \n",
       "5           6.0      70.666667          33.819281  -36.868860   \n",
       "6           7.0      70.666667          28.946073  -41.532566   \n",
       "7           8.0      70.666667          25.946664  -44.667557   \n",
       "8           9.0      70.666667          23.323026  -47.382576   \n",
       "9          10.0      70.666667          21.191052  -49.524676   \n",
       "\n",
       "   sigma^2_estimate/n  sigma^2_estimate   n_used  \n",
       "0         1412.735921      1.412105e+08  83972.0  \n",
       "1         1296.304803      1.295796e+08  62629.0  \n",
       "2         1259.564250      1.258100e+08  47386.0  \n",
       "3         1242.352243      1.244560e+08  36983.0  \n",
       "4         1240.976589      1.238990e+08  30524.0  \n",
       "5         1232.295723      1.236769e+08  25700.0  \n",
       "6         1229.496559      1.231090e+08  22332.0  \n",
       "7         1231.095356      1.229829e+08  19519.0  \n",
       "8         1228.795480      1.235113e+08  17555.0  \n",
       "9         1232.733362      1.230154e+08  15937.0  "
      ]
     },
     "execution_count": 52,
     "metadata": {},
     "output_type": "execute_result"
    }
   ],
   "source": [
    "# b)\n",
    "def mc_importance(f, a, b, n, sigma):\n",
    "    p = np.random.normal(0,sigma,n)\n",
    "    p0 = p[(p >= a) & (p <= b)]\n",
    "    n0 = np.shape(p0)[0]\n",
    "    u = norm.cdf(p0, scale = sigma)\n",
    "    In = (np.sum(f(p0) / u) * (b - a)) / n\n",
    "    var = np.concatenate((f(p0),u)) * (b - a)\n",
    "    return In, np.var(var), n0\n",
    "\n",
    "# c)\n",
    "n = 100000\n",
    "a = -1\n",
    "b = 3\n",
    "sigma = np.arange(1,11)\n",
    "idx = np.arange(len(sigma))\n",
    "num_sigma,integral_true,integral_estimate,difference,sigma2_estimate_n,sigma2_estimate,n_used = np.zeros((7,len(sigma)))\n",
    "for i in range(len(sigma)):\n",
    "    num_sigma[i] = sigma[i]\n",
    "    integral_true[i] = I(a,b)\n",
    "    integral_estimate[i] = mc_importance(f,a,b,n,sigma[i])[0]\n",
    "    difference[i] = mc_importance(f,a,b,n,sigma[i])[0] - I(a,b)\n",
    "    sigma2_estimate_n[i] = mc_importance(f,a,b,n,sigma[i])[1]\n",
    "    sigma2_estimate[i] = mc_importance(f,a,b,n,sigma[i])[1]*n\n",
    "    n_used[i] = mc_importance(f,a,b,n,sigma[i])[2]\n",
    "df4 = pd.DataFrame(\n",
    "    np.array([num_sigma, integral_true, integral_estimate, difference, sigma2_estimate_n, sigma2_estimate, n_used]).T, columns = [\"sigma_number\", \"integral_true\", \"integral_estimate\", \"difference\", \"sigma^2_estimate/n\", \"sigma^2_estimate\", \"n_used\"]\n",
    ")\n",
    "df4"
   ]
  },
  {
   "cell_type": "markdown",
   "metadata": {},
   "source": [
    "d) The best estimators are sigma = 2 and sigma = 3, based off of the difference. However, the difference of sigma = 3 is overall lower, so it is the best estimator."
   ]
  },
  {
   "cell_type": "code",
   "execution_count": 53,
   "metadata": {},
   "outputs": [
    {
     "data": {
      "text/plain": [
       "<matplotlib.legend.Legend at 0x20e9d3229d0>"
      ]
     },
     "execution_count": 53,
     "metadata": {},
     "output_type": "execute_result"
    },
    {
     "data": {
      "image/png": "[encoded data removed]",
      "text/plain": [
       "<Figure size 640x480 with 1 Axes>"
      ]
     },
     "metadata": {},
     "output_type": "display_data"
    }
   ],
   "source": [
    "fig, ax = plt.subplots()\n",
    "ax.plot(np.linspace(a,b), np.linspace(-15,mc_importance(f,a,b,n,sigma[1])[0] - I(a,b)),label = 'sigma = 2')\n",
    "ax.plot(np.linspace(a,b), np.linspace(-15,mc_importance(f,a,b,n,sigma[2])[0] - I(a,b)),label = 'sigma = 3')\n",
    "ax.set_title(\"Difference of integral estimate vs [a,b] interval\")\n",
    "ax.set_xlabel(\"Difference of integral estimate and integral true\")\n",
    "ax.set_ylabel(\"Interval [a,b]\")\n",
    "ax.legend()"
   ]
  },
  {
   "cell_type": "markdown",
   "metadata": {},
   "source": [
    "e) My results compared to the basic estimate is worse. Overall, using importance sampling here did not work very well, which is not what I expected. I expected it to be more accurate compared to basic Monte Carlo.\n",
    "\n",
    "f) As sigma increases, the number of n_used decreases. This makes sense. When we initially generate the random normal numbers, they will be more varied when our sigma increases. This means more of the numbers will be outside our desired interval, and of course the opposite will happen for smaller numbers of sigma."
   ]
  }
 ],
 "metadata": {
  "kernelspec": {
   "display_name": "base",
   "language": "python",
   "name": "python3"
  },
  "language_info": {
   "codemirror_mode": {
    "name": "ipython",
    "version": 3
   },
   "file_extension": ".py",
   "mimetype": "text/x-python",
   "name": "python",
   "nbconvert_exporter": "python",
   "pygments_lexer": "ipython3",
   "version": "3.11.4"
  }
 },
 "nbformat": 4,
 "nbformat_minor": 2
}
